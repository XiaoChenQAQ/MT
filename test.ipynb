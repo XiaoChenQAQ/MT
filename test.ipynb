{
 "cells": [
  {
   "cell_type": "code",
   "execution_count": 1,
   "metadata": {},
   "outputs": [],
   "source": [
    "import torch\n",
    "import torch.nn as nn\n",
    "import numpy as np\n",
    "import math\n",
    "from torch.nn.parameter import Parameter"
   ]
  },
  {
   "cell_type": "code",
   "execution_count": 2,
   "metadata": {},
   "outputs": [
    {
     "name": "stdout",
     "output_type": "stream",
     "text": [
      "tensor([[ True, False, False, False, False],\n",
      "        [ True,  True, False, False, False],\n",
      "        [ True,  True,  True, False, False],\n",
      "        [ True,  True,  True,  True, False],\n",
      "        [ True,  True,  True,  True,  True]])\n"
     ]
    }
   ],
   "source": [
    "def make_mask(dim):\n",
    "        matirx = np.ones((dim, dim))\n",
    "        mask = torch.Tensor(np.tril(matirx))\n",
    "        return mask==1\n",
    "print(make_mask(5))"
   ]
  },
  {
   "cell_type": "code",
   "execution_count": 16,
   "metadata": {},
   "outputs": [
    {
     "name": "stdout",
     "output_type": "stream",
     "text": [
      "tensor([[0., 1., 2.],\n",
      "        [3., 4., 5.],\n",
      "        [6., 7., 8.]], dtype=torch.float64)\n",
      "tensor([[0.0900, 0.2447, 0.6652],\n",
      "        [0.0900, 0.2447, 0.6652],\n",
      "        [0.0900, 0.2447, 0.6652]], dtype=torch.float64)\n",
      "torch.Size([10, 3, 4])\n"
     ]
    }
   ],
   "source": [
    "tensor1 = torch.randn(10, 3, 4)\n",
    "tensor2 = torch.randn(10, 3, 4)\n",
    "tensor3 = torch.randn(10, 3, 4)\n",
    "a = np.arange(9).astype('float').reshape(3,3)\n",
    "\n",
    "tensor4 = torch.from_numpy(a)\n",
    "print(tensor4)\n",
    "m = nn.Softmax(dim=1)\n",
    "X = m(tensor4)\n",
    "print(X)\n",
    "print(torch.bmm(torch.bmm(tensor1, tensor2.permute((0,2,1))), tensor3).size())"
   ]
  },
  {
   "cell_type": "code",
   "execution_count": 21,
   "metadata": {},
   "outputs": [
    {
     "name": "stdout",
     "output_type": "stream",
     "text": [
      "tensor([[1., 0.],\n",
      "        [0., 1.]], dtype=torch.float64)\n",
      "tensor([[0.7311, 0.2689],\n",
      "        [0.2689, 0.7311]], dtype=torch.float64)\n"
     ]
    }
   ],
   "source": [
    "\n",
    "a = np.array([1.0,0.0,0.0,1.0]).reshape((2,2))\n",
    "tensor4 = torch.from_numpy(a)\n",
    "print(tensor4)\n",
    "m = nn.Softmax(dim=1)\n",
    "X = m(tensor4)\n",
    "print(X)"
   ]
  },
  {
   "cell_type": "code",
   "execution_count": null,
   "metadata": {},
   "outputs": [],
   "source": [
    "nn.Transformer()"
   ]
  }
 ],
 "metadata": {
  "interpreter": {
   "hash": "c65aff122350cd56b737f3106f4acefc74f496c18fafa7c35e00359104e37a88"
  },
  "kernelspec": {
   "display_name": "Python 3.8.10 64-bit ('dlpy': conda)",
   "name": "python3"
  },
  "language_info": {
   "codemirror_mode": {
    "name": "ipython",
    "version": 3
   },
   "file_extension": ".py",
   "mimetype": "text/x-python",
   "name": "python",
   "nbconvert_exporter": "python",
   "pygments_lexer": "ipython3",
   "version": "3.8.10"
  },
  "orig_nbformat": 4
 },
 "nbformat": 4,
 "nbformat_minor": 2
}
