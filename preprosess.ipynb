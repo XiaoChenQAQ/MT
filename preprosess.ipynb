{
 "cells": [
  {
   "cell_type": "code",
   "execution_count": 2,
   "metadata": {},
   "outputs": [],
   "source": [
    "import numpy as np\n",
    "import torch\n",
    "import os\n",
    "\n",
    "\n"
   ]
  },
  {
   "cell_type": "code",
   "execution_count": 6,
   "metadata": {},
   "outputs": [
    {
     "name": "stdout",
     "output_type": "stream",
     "text": [
      "./data/valid_en.txt\n"
     ]
    }
   ],
   "source": [
    "data_path = \"./data/\"\n",
    "bpevocab_path = data_path+\"bpevocab.txt\"\n",
    "train_de = data_path+\"train_de.txt\"\n",
    "train_en = data_path+\"train_en.txt\"\n",
    "valid_de = data_path+\"valid_de.txt\"\n",
    "valid_en = data_path+\"valid_en.txt\"\n",
    "print(valid_en)\n"
   ]
  },
  {
   "cell_type": "code",
   "execution_count": 17,
   "metadata": {},
   "outputs": [
    {
     "name": "stdout",
     "output_type": "stream",
     "text": [
      "10144\n",
      "10144 10148\n"
     ]
    }
   ],
   "source": [
    "# make token to index \n",
    "list_token = []\n",
    "with open(bpevocab_path,'r', encoding='utf-8') as f:\n",
    "    for i,line in enumerate(f):\n",
    "        list_token.append(line.split()[0])\n",
    "    print(len(list_token))\n",
    "    token2index = {token:i+4 for i,token in enumerate(list_token)}\n",
    "    index2token = {i+4:token for i,token in enumerate(list_token)}\n",
    "    token2index[\"<pad>\"] = 0\n",
    "    index2token[0] = \"<pad>\"\n",
    "    token2index[\"<unk>\"] = 1\n",
    "    index2token[1] = \"<unk>\"\n",
    "    token2index[\"<sos>\"] = 2\n",
    "    index2token[2] = \"<sos>\"\n",
    "    token2index[\"<eos>\"] = 3\n",
    "    index2token[3] = \"<eos>\"\n",
    "print(len(list_token),len(token2index))\n",
    "\n",
    "##写成函数\n",
    "def make_dict(bpevocab_path):\n",
    "    '''\n",
    "    用bpe分词生成token2index字典\n",
    "    输入:bpe分词文件路径\n",
    "    输出:两个字典token2index,index2token典\n",
    "    '''\n",
    "    list_token = []\n",
    "    with open(bpevocab_path,'r', encoding='utf-8') as f:\n",
    "        for i,line in enumerate(f):\n",
    "            list_token.append(line.split()[0])\n",
    "    token2index = {token:i+4 for i,token in enumerate(list_token)}\n",
    "    index2token = {i+4:token for i,token in enumerate(list_token)}\n",
    "    token2index[\"<pad>\"] = 0\n",
    "    index2token[0] = \"<pad>\"\n",
    "    token2index[\"<unk>\"] = 1\n",
    "    index2token[1] = \"<unk>\"\n",
    "    token2index[\"<sos>\"] = 2\n",
    "    index2token[2] = \"<sos>\"\n",
    "    token2index[\"<eos>\"] = 3\n",
    "    index2token[3] = \"<eos>\"\n",
    "    print(\"from token list(len({0}),make a dict(len({1})))\".format(len(list_token),len(token2index)))\n",
    "    return token2index,index2token\n"
   ]
  },
  {
   "cell_type": "code",
   "execution_count": 18,
   "metadata": {},
   "outputs": [
    {
     "name": "stdout",
     "output_type": "stream",
     "text": [
      "from token list(len(10144),make a dict(len(10148)))\n"
     ]
    }
   ],
   "source": []
  },
  {
   "cell_type": "code",
   "execution_count": 23,
   "metadata": {},
   "outputs": [
    {
     "name": "stdout",
     "output_type": "stream",
     "text": [
      "7\n"
     ]
    }
   ],
   "source": [
    "#把句子从改成index\n",
    "def make_batch(data_path,token2index,batch_size, emb_size, device):\n",
    "    text = open(data_path,'r',encoding='utf-8')\n",
    "        \n",
    "\n",
    "\n",
    "    return"
   ]
  },
  {
   "cell_type": "code",
   "execution_count": 2,
   "metadata": {},
   "outputs": [
    {
     "name": "stdout",
     "output_type": "stream",
     "text": [
      "[1, 2, 3, 4, 5, 6, 7, 8, 9, 10, 11, 0]\n"
     ]
    }
   ],
   "source": [
    "\n",
    "ss = [1,2,3,4,5,6,7,8,9,10,11]\n",
    "for i in range(len(ss),12):\n",
    "    ss.append(0)\n",
    "print(ss)"
   ]
  }
 ],
 "metadata": {
  "interpreter": {
   "hash": "c65aff122350cd56b737f3106f4acefc74f496c18fafa7c35e00359104e37a88"
  },
  "kernelspec": {
   "display_name": "Python 3.8.10 64-bit ('dlpy': conda)",
   "name": "python3"
  },
  "language_info": {
   "codemirror_mode": {
    "name": "ipython",
    "version": 3
   },
   "file_extension": ".py",
   "mimetype": "text/x-python",
   "name": "python",
   "nbconvert_exporter": "python",
   "pygments_lexer": "ipython3",
   "version": "3.8.10"
  },
  "orig_nbformat": 4
 },
 "nbformat": 4,
 "nbformat_minor": 2
}
