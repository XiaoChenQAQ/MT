{
 "cells": [
  {
   "cell_type": "code",
   "execution_count": 2,
   "metadata": {},
   "outputs": [],
   "source": [
    "import numpy as np\n",
    "import torch\n",
    "import os\n",
    "from torch.utils import data as Data\n",
    "from torch import nn\n",
    "from torch.optim import Adam\n",
    "from torch.optim.lr_scheduler import _LRScheduler\n",
    "from torch.optim.optimizer import Optimizer\n",
    "from torch.utils.data.dataloader import DataLoader\n",
    "from dataprocess import MyData,Tokenizer\n",
    "from transformer import Transformer\n",
    "from tqdm import tqdm\n",
    "import math\n",
    "import sys\n"
   ]
  },
  {
   "cell_type": "code",
   "execution_count": 3,
   "metadata": {},
   "outputs": [
    {
     "name": "stdout",
     "output_type": "stream",
     "text": [
      "/Users/xiaochen/code/NLP/MT\n"
     ]
    }
   ],
   "source": [
    "!pwd"
   ]
  },
  {
   "cell_type": "code",
   "execution_count": 4,
   "metadata": {},
   "outputs": [
    {
     "name": "stdout",
     "output_type": "stream",
     "text": [
      "cpu\n",
      "file path:./data/valid_en.txt\n",
      "from token list(len(10144),make a dict(len(10148)))\n",
      "from token list(len(10144),make a dict(len(10148)))\n"
     ]
    },
    {
     "data": {
      "text/plain": [
       "<All keys matched successfully>"
      ]
     },
     "execution_count": 4,
     "metadata": {},
     "output_type": "execute_result"
    }
   ],
   "source": [
    "#GPU\n",
    "device = torch.device(\"cuda:0\" if torch.cuda.is_available() else \"cpu\")\n",
    "print(device)\n",
    "\n",
    "#数据路径\n",
    "data_path = \"./data/\"\n",
    "bpevocab_path = data_path+\"bpevocab.txt\"\n",
    "train_de = data_path+\"train_de.txt\"\n",
    "train_en = data_path+\"train_en.txt\"\n",
    "valid_de = data_path+\"valid_de.txt\"\n",
    "valid_en = data_path+\"valid_en.txt\"\n",
    "print(\"file path:\"+valid_en)\n",
    "testloss = 0\n",
    "batch_size = 512\n",
    "lr = 0.0001\n",
    "dict_number = 10148\n",
    "epochs = 15\n",
    "n_layers = 6\n",
    "seq_len = 32\n",
    "heads =4\n",
    "d_model = 512\n",
    "norm_shape = [seq_len, d_model]\n",
    "#创建数据\n",
    "train_data = MyData(train_de, train_en, bpevocab_path)\n",
    "train_data = Data.DataLoader(train_data, shuffle=True, batch_size=batch_size, num_workers=0, pin_memory=True)\n",
    "valid_data = MyData(valid_de, valid_en, bpevocab_path)\n",
    "valid_data = Data.DataLoader(valid_data, shuffle=False, batch_size=batch_size, num_workers=0, pin_memory=True)\n",
    "\n",
    "# 创建网络\n",
    "model = Transformer(n_layers, dict_number, seq_len, heads, d_model, norm_shape)\n",
    "model.load_state_dict(torch.load(\"../de2en_14.pkl\", map_location=torch.device(device)))\n"
   ]
  },
  {
   "cell_type": "code",
   "execution_count": 9,
   "metadata": {},
   "outputs": [
    {
     "name": "stdout",
     "output_type": "stream",
     "text": [
      "from token list(len(10144),make a dict(len(10148)))\n",
      "torch.Size([3, 32])\n",
      "tensor([   2,    7,   95,   26,  160,   87,   10, 6119,  577,   23,   10, 1071,\n",
      "        2404,    5,    3,    0,    0,    0,    0,    0,    0,    0,    0,    0,\n",
      "           0,    0,    0,    0,    0,    0,    0,    0], dtype=torch.int32)\n"
     ]
    }
   ],
   "source": [
    "sen1_en = \"and now we would like to introdu@@ ce you to jo@@ ey .\"\n",
    "sen1_de = \"jetzt würden wir euch gerne jo@@ ey vorstellen .\"\n",
    "sen2_en = \"so today , i &apos;m going to tell you about some people who didn &apos;t move out of their neighbor@@ ho@@ ods .\"\n",
    "sen2_de = \"also , heute werde ich ihnen von ein paar menschen erzählen , die nie aus ihrer hei@@ mat@@ stadt weg@@ gezogen sind .\"\n",
    "sen3_en = \"and he ended up achie@@ ving at a level that had never before been con@@ tem@@ pl@@ ated by any member of his family .\"\n",
    "sen3_de = \"und am ende schaff@@ te er es auf ein bildungs@@ nive@@ au , das niemand in seiner familie je zuvor in erwä@@ gung gezogen hatte .\"\n",
    "sen_en = [sen1_en, sen2_en, sen3_en]\n",
    "sen_de = [sen1_de, sen2_de, sen3_de]\n",
    "token = Tokenizer()\n",
    "src_seq = token.encoder_sentence(sen_de)\n",
    "src_seq = token.padding(src_seq)\n",
    "src_seq = torch.IntTensor(src_seq)\n",
    "print(src_seq.shape)\n",
    "tgt_seq = token.encoder_sentence(sen_en)\n",
    "tgt_seq = token.padding(tgt_seq)\n",
    "tgt_seq = torch.IntTensor(tgt_seq)\n",
    "print(tgt_seq[0])\n"
   ]
  },
  {
   "cell_type": "code",
   "execution_count": 42,
   "metadata": {},
   "outputs": [
    {
     "name": "stdout",
     "output_type": "stream",
     "text": [
      "torch.Size([3, 32])\n",
      "i in that 50 spring income dna meaning blue spring street is &#93; policy <eos> , <eos> , and by <eos> , , give to a the of . &apos;s war and\n",
      "and now we would like to introdu@@ ce you to jo@@ ey .\n",
      ", gets dna source — fully security — changing gas office — star — known capacity complicated bor@@ <eos> glo@@ order street oil fish &apos;s we the new the . given and\n",
      "so today , i &apos;m going to tell you about some people who didn &apos;t move out of their neighbor@@ ho@@ ods .\n"
     ]
    }
   ],
   "source": [
    "\n",
    "outputs_seq = model(src_seq, tgt_seq)\n",
    "oseq = outputs_seq.max(dim=-1).indices\n",
    "print(oseq.shape)\n",
    "out_sen = token.decoder_sentence(outputs_seq.max(dim=-1).indices.tolist())\n",
    "out_sen1 = \" \".join(out_sen[0])\n",
    "out_sen2 = \" \".join(out_sen[1])\n",
    "out_sen3 = \" \".join(out_sen[2])\n",
    "print(out_sen1)\n",
    "print(sen1_en)\n",
    "print(out_sen2)\n",
    "print(sen2_en)"
   ]
  },
  {
   "cell_type": "code",
   "execution_count": null,
   "metadata": {},
   "outputs": [],
   "source": []
  }
 ],
 "metadata": {
  "interpreter": {
   "hash": "c65aff122350cd56b737f3106f4acefc74f496c18fafa7c35e00359104e37a88"
  },
  "kernelspec": {
   "display_name": "Python 3.8.10 64-bit ('dlpy': conda)",
   "language": "python",
   "name": "python3"
  },
  "language_info": {
   "codemirror_mode": {
    "name": "ipython",
    "version": 3
   },
   "file_extension": ".py",
   "mimetype": "text/x-python",
   "name": "python",
   "nbconvert_exporter": "python",
   "pygments_lexer": "ipython3",
   "version": "3.8.10"
  },
  "orig_nbformat": 4
 },
 "nbformat": 4,
 "nbformat_minor": 2
}
